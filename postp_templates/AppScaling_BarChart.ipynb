{
 "cells": [
  {
   "cell_type": "markdown",
   "metadata": {},
   "source": [
    "Specify the csv data files and the corresponding plot labels in the first cell below. Each CSV file represents data for a specific configuration e.g. Jacobi program with ROC_SHMEM run on the AMD Fund MI100 node. Each row of the csv file represents a specific problem size run with certain number of GPUs/processors along with the performance numbers as follows:\n",
    "```\n",
    "<program name>, <nx>, <ny>, <niter>, <nccheck>, <nprocs/ngpus>, 1, <total time>, <serial time>, <comms time>\n",
    "rccl_overlap, 8192, 8192, 1000, 1, 2, 1, 0.431098, 0.759678, 0.064356\n",
    "```\n",
    "\n",
    "If the data files have a consistent format, that is, if the columns actually align as expected, then you should be able to directly go to the last cell for tweaking the plot settings."
   ]
  },
  {
   "cell_type": "code",
   "execution_count": 10,
   "metadata": {},
   "outputs": [],
   "source": [
    "data_files = []\n",
    "plot_labels = []\n",
    "data_files.append(\"data/jacobi_rocshmem_amdfund_mi1008x_69303.csv\")\n",
    "plot_labels.append(\"AMD Fund 8xMI100\\n ROC_SHMEM\")\n",
    "\n",
    "data_files.append(\"data/jacobi_rccl_amdfund_mi1008x_69371.csv\")\n",
    "plot_labels.append(\"AMD Fund 8xMI100\\n RCCL\")"
   ]
  },
  {
   "cell_type": "code",
   "execution_count": 2,
   "metadata": {},
   "outputs": [],
   "source": [
    "import matplotlib.pyplot as plt\n",
    "import pandas as pd\n",
    "import numpy as np\n",
    "import csv\n",
    "import math"
   ]
  },
  {
   "cell_type": "markdown",
   "metadata": {},
   "source": [
    "The `ScalingData` class reads and holds the performance scaling data for a config."
   ]
  },
  {
   "cell_type": "code",
   "execution_count": 3,
   "metadata": {},
   "outputs": [],
   "source": [
    "class ScalingData:\n",
    "    def __init__(self, fname):\n",
    "        self.filename = fname\n",
    "        # Initialize the lists to be read in from the data file\n",
    "        # Column 0 is the name of the test\n",
    "        self.nx = []             # 1\n",
    "        self.ny = []             # 2\n",
    "        self.niter = []          # 3\n",
    "        self.nccheck = []        # 4\n",
    "        self.nprocs = []         # 5\n",
    "        # 1                      # 6\n",
    "        self.total_time = []     # 7\n",
    "        self.serial_time = []    # 8\n",
    "        self.comms_time = []     # 9\n",
    "\n",
    "        self.read_file()\n",
    "\n",
    "    def read_file(self):\n",
    "        with open(self.filename, \"r\") as csvfile:\n",
    "            csvreader = csv.reader(csvfile)\n",
    "            for row in csvreader:\n",
    "                self.nx.append(int(row[1]))\n",
    "                self.ny.append(int(row[2]))\n",
    "                self.niter.append(int(row[3]))\n",
    "                self.nccheck.append(int(row[4]))\n",
    "                self.nprocs.append(int(row[5]))\n",
    "                self.total_time.append(float(row[7]))\n",
    "                self.serial_time.append(float(row[8]))\n",
    "                self.comms_time.append(float(row[9]))\n"
   ]
  },
  {
   "cell_type": "markdown",
   "metadata": {},
   "source": [
    "The `config` list holds the performance data for various configurations (comms library, machine, node) as `ScalingData` objects."
   ]
  },
  {
   "cell_type": "code",
   "execution_count": 4,
   "metadata": {},
   "outputs": [],
   "source": [
    "config = []\n",
    "\n",
    "for fname in data_files:\n",
    "    config.append(ScalingData(fname))"
   ]
  },
  {
   "cell_type": "code",
   "execution_count": 5,
   "metadata": {},
   "outputs": [
    {
     "name": "stdout",
     "output_type": "stream",
     "text": [
      "[2.615462, 1.352729, 0.934732, 0.7547]\n",
      "[5.022254, 5.033848, 5.038655, 4.934708]\n",
      "[0.043568, 0.046065, 0.044587, 0.070838]\n"
     ]
    }
   ],
   "source": [
    "# for debugging\n",
    "print(config[0].total_time)\n",
    "print(config[0].serial_time)\n",
    "print(config[0].comms_time)"
   ]
  },
  {
   "cell_type": "markdown",
   "metadata": {},
   "source": [
    "Create a dataframe where rows are the different configs and columns are the performance timings for a specific config, e.g. the total wall time for the test with increasing no. of GPUs."
   ]
  },
  {
   "cell_type": "code",
   "execution_count": 6,
   "metadata": {},
   "outputs": [
    {
     "name": "stdout",
     "output_type": "stream",
     "text": [
      "  Team  1 GPU  2 GPUs  4 GPUs  6 GPUs  8 GPUs\n",
      "0  nan    NaN     NaN     NaN     NaN     NaN\n",
      "1  nan    NaN     NaN     NaN     NaN     NaN\n"
     ]
    }
   ],
   "source": [
    "nrows = len(config)\n",
    "columns = ['Team', '1 GPU']\n",
    "for nprocs in config[0].nprocs:\n",
    "    columns.append(str(nprocs) + ' GPUs')\n",
    "\n",
    "df_total_time = pd.DataFrame(np.nan, index=range(nrows), columns=columns)\n",
    "df_total_time['Team'] = df_total_time['Team'].astype(str)\n",
    "\n",
    "print(df_total_time)\n"
   ]
  },
  {
   "cell_type": "code",
   "execution_count": 7,
   "metadata": {},
   "outputs": [
    {
     "name": "stdout",
     "output_type": "stream",
     "text": [
      "data/jacobi_rocshmem_amdfund_mi1008x_69303.csv\n",
      "data/jacobi_rccl_amdfund_mi1008x_69371.csv\n"
     ]
    }
   ],
   "source": [
    "# print all config filenames to help with setting plot team names manually\n",
    "for cfg in config:\n",
    "    print(cfg.filename)"
   ]
  },
  {
   "cell_type": "markdown",
   "metadata": {},
   "source": [
    "Fill the dataframe"
   ]
  },
  {
   "cell_type": "code",
   "execution_count": 8,
   "metadata": {},
   "outputs": [
    {
     "name": "stdout",
     "output_type": "stream",
     "text": [
      "                           Team     1 GPU    2 GPUs    4 GPUs    6 GPUs  \\\n",
      "0  AMD Fund 8xMI100\\n ROC_SHMEM  5.007366  2.615462  1.352729  0.934732   \n",
      "1       AMD Fund 8xMI100\\n RCCL  0.761366  0.431098  0.250325  0.199068   \n",
      "\n",
      "     8 GPUs  \n",
      "0  0.754700  \n",
      "1  0.191923  \n"
     ]
    },
    {
     "data": {
      "text/plain": [
       "pandas.core.frame.DataFrame"
      ]
     },
     "execution_count": 8,
     "metadata": {},
     "output_type": "execute_result"
    }
   ],
   "source": [
    "\n",
    "for row_index in range(df_total_time.shape[0]):\n",
    "    df_total_time.iloc[row_index, 0] = plot_labels[row_index]\n",
    "    df_total_time.iloc[row_index, 1] = np.mean(config[row_index].serial_time)\n",
    "    for col_index in range(2, df_total_time.shape[1]):\n",
    "        df_total_time.iloc[row_index, col_index] = \\\n",
    "            config[row_index].total_time[col_index-2]\n",
    "\n",
    "print(df_total_time)\n",
    "type(df_total_time)"
   ]
  },
  {
   "cell_type": "markdown",
   "metadata": {},
   "source": [
    "Plot the grouped bar chart"
   ]
  },
  {
   "cell_type": "code",
   "execution_count": 9,
   "metadata": {},
   "outputs": [
    {
     "data": {
      "text/plain": [
       "Text(0.5, 1.0, 'Jacobi solver, 1000 iters\\nDomain size: 8192x8192')"
      ]
     },
     "execution_count": 9,
     "metadata": {},
     "output_type": "execute_result"
    },
    {
     "data": {
      "image/png": "[encoded data removed]",
      "text/plain": [
       "<Figure size 600x400 with 1 Axes>"
      ]
     },
     "metadata": {},
     "output_type": "display_data"
    }
   ],
   "source": [
    "fs = 12\n",
    "\n",
    "axes1=df_total_time.plot(\n",
    "    x='Team',\n",
    "    kind='bar',\n",
    "    stacked=False,\n",
    "    rot=0, xlabel='', figsize=(6, 4),\n",
    "    fontsize=fs,\n",
    "    legend=None)\n",
    "axes1.grid(axis='y')\n",
    "axes1.set_ylim(0.1,10)\n",
    "axes1.set_yscale('log')\n",
    "#axes1.set_yticks(ticks=np.power(10, np.arange(-1.0, 1.5, 0.5)))\n",
    "axes1.legend(fontsize = fs)\n",
    "axes1.set_ylabel(\"Time (s)\", fontsize = fs)\n",
    "plt.title('Jacobi solver, 1000 iters\\n'\n",
    "          'Domain size: 8192x8192',\n",
    "          fontsize = fs, horizontalalignment='center')\n",
    "#plt.savefig('jacobi.pdf')\n"
   ]
  }
 ],
 "metadata": {
  "kernelspec": {
   "display_name": "msg-roofline-postp",
   "language": "python",
   "name": "python3"
  },
  "language_info": {
   "codemirror_mode": {
    "name": "ipython",
    "version": 3
   },
   "file_extension": ".py",
   "mimetype": "text/x-python",
   "name": "python",
   "nbconvert_exporter": "python",
   "pygments_lexer": "ipython3",
   "version": "3.11.7"
  }
 },
 "nbformat": 4,
 "nbformat_minor": 2
}
